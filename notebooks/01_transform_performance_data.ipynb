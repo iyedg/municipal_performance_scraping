{
 "cells": [
  {
   "cell_type": "code",
   "execution_count": 8,
   "metadata": {},
   "outputs": [],
   "source": [
    "%reload_ext autoreload\n",
    "%autoreload 2"
   ]
  },
  {
   "cell_type": "code",
   "execution_count": 9,
   "metadata": {},
   "outputs": [],
   "source": [
    "import os\n",
    "\n",
    "import pandas as pd\n",
    "import requests_cache\n",
    "from loguru import logger\n",
    "from pyprojroot import here\n",
    "from tqdm.notebook import tqdm\n",
    "\n",
    "requests_cache.install_cache(str(here()))\n",
    "\n",
    "os.chdir(here())"
   ]
  },
  {
   "cell_type": "code",
   "execution_count": 10,
   "metadata": {},
   "outputs": [],
   "source": [
    "from municipal_performance_scraping.transformers import (\n",
    "    transform_performance_for_evaluations,\n",
    ")"
   ]
  },
  {
   "cell_type": "code",
   "execution_count": 11,
   "metadata": {},
   "outputs": [],
   "source": [
    "from municipal_performance_scraping.extractors import extract_performance_data\n",
    "from municipal_performance_scraping.loaders import load_evaluation\n",
    "from municipal_performance_scraping.transformers import (\n",
    "    transform_performance_for_evaluations,\n",
    ")"
   ]
  },
  {
   "cell_type": "code",
   "execution_count": 14,
   "metadata": {},
   "outputs": [],
   "source": [
    "from municipal_performance_scraping.models import engine"
   ]
  },
  {
   "cell_type": "code",
   "execution_count": 26,
   "metadata": {},
   "outputs": [],
   "source": [
    "ids = pd.read_sql(\"select * from municipalities\", con=engine)[\n",
    "    \"municipality_id\"\n",
    "].to_list()"
   ]
  },
  {
   "cell_type": "code",
   "execution_count": 16,
   "metadata": {},
   "outputs": [],
   "source": [
    "import concurrent.futures"
   ]
  },
  {
   "cell_type": "code",
   "execution_count": 44,
   "metadata": {},
   "outputs": [
    {
     "data": {
      "application/vnd.jupyter.widget-view+json": {
       "model_id": "893cea6cfd9c428883af5590275baf66",
       "version_major": 2,
       "version_minor": 0
      },
      "text/plain": [
       "HBox(children=(FloatProgress(value=0.0, max=350.0), HTML(value='')))"
      ]
     },
     "metadata": {},
     "output_type": "display_data"
    },
    {
     "name": "stdout",
     "output_type": "stream",
     "text": [
      "\n"
     ]
    }
   ],
   "source": [
    "transformed = []\n",
    "with concurrent.futures.ThreadPoolExecutor(max_workers=5) as executor:\n",
    "    future_to_mids = {executor.submit(extract_performance_data, mid, 2017): mid for mid in ids}\n",
    "    errors = []\n",
    "    for future in tqdm(concurrent.futures.as_completed(future_to_mids), total=350):\n",
    "        try:\n",
    "            mid = future_to_mids[future]\n",
    "            transformed.append(transform_performance_for_evaluations(future.result(), mid,  2017))\n",
    "        except KeyError:\n",
    "            errors.append(future_to_mids[future])"
   ]
  },
  {
   "cell_type": "code",
   "execution_count": 45,
   "metadata": {},
   "outputs": [],
   "source": [
    "for t in transformed:\n",
    "    load_evaluation(t)"
   ]
  },
  {
   "cell_type": "code",
   "execution_count": 46,
   "metadata": {},
   "outputs": [
    {
     "data": {
      "application/vnd.jupyter.widget-view+json": {
       "model_id": "94e5420a166e4dc08ca00c4fb044543c",
       "version_major": 2,
       "version_minor": 0
      },
      "text/plain": [
       "HBox(children=(FloatProgress(value=0.0, max=350.0), HTML(value='')))"
      ]
     },
     "metadata": {},
     "output_type": "display_data"
    },
    {
     "name": "stdout",
     "output_type": "stream",
     "text": [
      "\n"
     ]
    }
   ],
   "source": [
    "transformed = []\n",
    "with concurrent.futures.ThreadPoolExecutor(max_workers=5) as executor:\n",
    "    future_to_mids = {executor.submit(extract_performance_data, mid, 2018): mid for mid in ids}\n",
    "    errors = []\n",
    "    for future in tqdm(concurrent.futures.as_completed(future_to_mids), total=350):\n",
    "        try:\n",
    "            mid = future_to_mids[future]\n",
    "            transformed.append(transform_performance_for_evaluations(future.result(), mid,  2018))\n",
    "        except KeyError:\n",
    "            errors.append(future_to_mids[future])"
   ]
  },
  {
   "cell_type": "code",
   "execution_count": 47,
   "metadata": {},
   "outputs": [],
   "source": [
    "for t in transformed:\n",
    "    load_evaluation(t)"
   ]
  },
  {
   "cell_type": "code",
   "execution_count": null,
   "metadata": {},
   "outputs": [],
   "source": []
  }
 ],
 "metadata": {
  "kernelspec": {
   "display_name": "Python 3",
   "language": "python",
   "name": "python3"
  },
  "language_info": {
   "codemirror_mode": {
    "name": "ipython",
    "version": 3
   },
   "file_extension": ".py",
   "mimetype": "text/x-python",
   "name": "python",
   "nbconvert_exporter": "python",
   "pygments_lexer": "ipython3",
   "version": "3.7.6"
  },
  "widgets": {
   "application/vnd.jupyter.widget-state+json": {
    "state": {
     "01b529b8c34e4b2eb0d10e5d9e5e177b": {
      "model_module": "@jupyter-widgets/controls",
      "model_module_version": "1.5.0",
      "model_name": "FloatProgressModel",
      "state": {
       "bar_style": "success",
       "description": "100%",
       "layout": "IPY_MODEL_13154087b57643849adf1896d3adf8af",
       "max": 350,
       "style": "IPY_MODEL_500eb8afe70a4f21a849c85defde4d49",
       "value": 350
      }
     },
     "0232613b7c0b474da5c264eab75a637a": {
      "model_module": "@jupyter-widgets/controls",
      "model_module_version": "1.5.0",
      "model_name": "DescriptionStyleModel",
      "state": {
       "description_width": ""
      }
     },
     "055a92dca1c64e41807e993fa71eb6b0": {
      "model_module": "@jupyter-widgets/base",
      "model_module_version": "1.2.0",
      "model_name": "LayoutModel",
      "state": {}
     },
     "0652e3f34fc54872be9e258738114f53": {
      "model_module": "@jupyter-widgets/base",
      "model_module_version": "1.2.0",
      "model_name": "LayoutModel",
      "state": {}
     },
     "0811735e53ec4ae481b74be5d89a56b2": {
      "model_module": "@jupyter-widgets/controls",
      "model_module_version": "1.5.0",
      "model_name": "DescriptionStyleModel",
      "state": {
       "description_width": ""
      }
     },
     "09890edfba904f4ca517537d8b60530d": {
      "model_module": "@jupyter-widgets/controls",
      "model_module_version": "1.5.0",
      "model_name": "HTMLModel",
      "state": {
       "layout": "IPY_MODEL_bf8247a88e574d9ebbd582b906973b64",
       "style": "IPY_MODEL_25b7fa23e2844bd48179b3a49cd80d3b",
       "value": " 96/350 [01:06&lt;02:55,  1.44it/s]"
      }
     },
     "1206426f849a49b9883d69d8d1ce7a7e": {
      "model_module": "@jupyter-widgets/controls",
      "model_module_version": "1.5.0",
      "model_name": "FloatProgressModel",
      "state": {
       "bar_style": "success",
       "description": "100%",
       "layout": "IPY_MODEL_32d83ee84f6b4a11927b5fcc808bb1f4",
       "max": 350,
       "style": "IPY_MODEL_dd114173fb92423bbd70ec6c479cb7d8",
       "value": 350
      }
     },
     "13154087b57643849adf1896d3adf8af": {
      "model_module": "@jupyter-widgets/base",
      "model_module_version": "1.2.0",
      "model_name": "LayoutModel",
      "state": {}
     },
     "13a0dc03e95045cfbfe932fa8893c6a3": {
      "model_module": "@jupyter-widgets/controls",
      "model_module_version": "1.5.0",
      "model_name": "FloatProgressModel",
      "state": {
       "bar_style": "success",
       "description": "100%",
       "layout": "IPY_MODEL_f08d9be41e604ceb96e38e84bc41a360",
       "max": 350,
       "style": "IPY_MODEL_9ebe6be2d07f416ea6cf36f79683b3ef",
       "value": 350
      }
     },
     "1432c51e43154df7b3bfa732b65296f5": {
      "model_module": "@jupyter-widgets/controls",
      "model_module_version": "1.5.0",
      "model_name": "ProgressStyleModel",
      "state": {
       "description_width": "initial"
      }
     },
     "162216e3b87e420c9292fc0cce862d1a": {
      "model_module": "@jupyter-widgets/base",
      "model_module_version": "1.2.0",
      "model_name": "LayoutModel",
      "state": {}
     },
     "1653b5ec21964a1196639739a7141a64": {
      "model_module": "@jupyter-widgets/controls",
      "model_module_version": "1.5.0",
      "model_name": "HTMLModel",
      "state": {
       "layout": "IPY_MODEL_162216e3b87e420c9292fc0cce862d1a",
       "style": "IPY_MODEL_c051c8540374491d8834dcc7dd36873a",
       "value": " 350/350 [34:09&lt;00:00,  5.86s/it]"
      }
     },
     "17e5bcc9ff434a389e9bdd3daa611f37": {
      "model_module": "@jupyter-widgets/controls",
      "model_module_version": "1.5.0",
      "model_name": "HBoxModel",
      "state": {
       "children": [
        "IPY_MODEL_3187a04bb102468ca8e50c19456416b0",
        "IPY_MODEL_3eb6b148b50641dcbb36ca9505d58598"
       ],
       "layout": "IPY_MODEL_ecd52bcfe1d44b3abd63c1a6912a5d49"
      }
     },
     "1d61a8bed1204b9a9a448b55f48207b8": {
      "model_module": "@jupyter-widgets/controls",
      "model_module_version": "1.5.0",
      "model_name": "FloatProgressModel",
      "state": {
       "bar_style": "danger",
       "description": "  0%",
       "layout": "IPY_MODEL_b2138b2cd33f474dae300c9da9fd1307",
       "max": 350,
       "style": "IPY_MODEL_9c3ba7b1d0084d0489c23920b65e62a8"
      }
     },
     "1fc1117f53ec4e5fac317557ed317d81": {
      "model_module": "@jupyter-widgets/base",
      "model_module_version": "1.2.0",
      "model_name": "LayoutModel",
      "state": {}
     },
     "216e981824e64d6dbc93dd78b03c3a74": {
      "model_module": "@jupyter-widgets/controls",
      "model_module_version": "1.5.0",
      "model_name": "DescriptionStyleModel",
      "state": {
       "description_width": ""
      }
     },
     "24c05fea956e47d08bbe5997b16f9f2f": {
      "model_module": "@jupyter-widgets/base",
      "model_module_version": "1.2.0",
      "model_name": "LayoutModel",
      "state": {}
     },
     "25b7fa23e2844bd48179b3a49cd80d3b": {
      "model_module": "@jupyter-widgets/controls",
      "model_module_version": "1.5.0",
      "model_name": "DescriptionStyleModel",
      "state": {
       "description_width": ""
      }
     },
     "26b8fb8bc22f4f7287fa11271198b4ad": {
      "model_module": "@jupyter-widgets/controls",
      "model_module_version": "1.5.0",
      "model_name": "DescriptionStyleModel",
      "state": {
       "description_width": ""
      }
     },
     "26fc25ad059a42dd93cb4a481fb99dec": {
      "model_module": "@jupyter-widgets/base",
      "model_module_version": "1.2.0",
      "model_name": "LayoutModel",
      "state": {}
     },
     "3187a04bb102468ca8e50c19456416b0": {
      "model_module": "@jupyter-widgets/controls",
      "model_module_version": "1.5.0",
      "model_name": "FloatProgressModel",
      "state": {
       "bar_style": "danger",
       "description": "  0%",
       "layout": "IPY_MODEL_c8c60b86ad6a461ab9c776721d87cb66",
       "max": 350,
       "style": "IPY_MODEL_c2b68ae44d8d4aa89e0893647c0ba958"
      }
     },
     "32d83ee84f6b4a11927b5fcc808bb1f4": {
      "model_module": "@jupyter-widgets/base",
      "model_module_version": "1.2.0",
      "model_name": "LayoutModel",
      "state": {}
     },
     "338359e7b9a845ca81fdd609d85ae19b": {
      "model_module": "@jupyter-widgets/controls",
      "model_module_version": "1.5.0",
      "model_name": "FloatProgressModel",
      "state": {
       "bar_style": "success",
       "description": "100%",
       "layout": "IPY_MODEL_cb5ed536ac634782b428e803721035e8",
       "max": 350,
       "style": "IPY_MODEL_7174176caa634039aa60d672bce74e18",
       "value": 350
      }
     },
     "3c9c401661154f79b5c3c55a1e944f40": {
      "model_module": "@jupyter-widgets/base",
      "model_module_version": "1.2.0",
      "model_name": "LayoutModel",
      "state": {}
     },
     "3eb6b148b50641dcbb36ca9505d58598": {
      "model_module": "@jupyter-widgets/controls",
      "model_module_version": "1.5.0",
      "model_name": "HTMLModel",
      "state": {
       "layout": "IPY_MODEL_92ad3df951e7451195bf445fdff14037",
       "style": "IPY_MODEL_6dab0e42ffff43499db034e7c72775c5",
       "value": " 0/350 [00:00&lt;?, ?it/s]"
      }
     },
     "3f2280da35f4402a8d34ea0e79da32c8": {
      "model_module": "@jupyter-widgets/controls",
      "model_module_version": "1.5.0",
      "model_name": "FloatProgressModel",
      "state": {
       "bar_style": "danger",
       "description": "  0%",
       "layout": "IPY_MODEL_c8ca9b26d3704cc88fa0665a07237715",
       "max": 350,
       "style": "IPY_MODEL_a7949a39e2b44bfb9d936bc56cba8087"
      }
     },
     "417d1bae79684529a7c293261362ccaf": {
      "model_module": "@jupyter-widgets/controls",
      "model_module_version": "1.5.0",
      "model_name": "ProgressStyleModel",
      "state": {
       "description_width": "initial"
      }
     },
     "4b9b1bd8937744eeb57a8d45ba493215": {
      "model_module": "@jupyter-widgets/base",
      "model_module_version": "1.2.0",
      "model_name": "LayoutModel",
      "state": {}
     },
     "4f5b515d92d741bfa6cee24ceb3ce7ef": {
      "model_module": "@jupyter-widgets/controls",
      "model_module_version": "1.5.0",
      "model_name": "FloatProgressModel",
      "state": {
       "bar_style": "danger",
       "description": "  8%",
       "layout": "IPY_MODEL_fc54c6bd33b84dc69dc7742ecb553d0d",
       "max": 350,
       "style": "IPY_MODEL_de840c89fb7743fe918989375f8f09d4",
       "value": 27
      }
     },
     "500eb8afe70a4f21a849c85defde4d49": {
      "model_module": "@jupyter-widgets/controls",
      "model_module_version": "1.5.0",
      "model_name": "ProgressStyleModel",
      "state": {
       "description_width": "initial"
      }
     },
     "54a85db7f64842f49323df2106e6ef47": {
      "model_module": "@jupyter-widgets/controls",
      "model_module_version": "1.5.0",
      "model_name": "FloatProgressModel",
      "state": {
       "bar_style": "success",
       "description": "100%",
       "layout": "IPY_MODEL_878a7ef10374411491bae02f7e0a63c8",
       "max": 350,
       "style": "IPY_MODEL_417d1bae79684529a7c293261362ccaf",
       "value": 350
      }
     },
     "5acfd88b3e0d4736814b3258d7ade5e3": {
      "model_module": "@jupyter-widgets/controls",
      "model_module_version": "1.5.0",
      "model_name": "HBoxModel",
      "state": {
       "children": [
        "IPY_MODEL_54a85db7f64842f49323df2106e6ef47",
        "IPY_MODEL_83b15251854f4c1db4af50a0bb80e4ae"
       ],
       "layout": "IPY_MODEL_4b9b1bd8937744eeb57a8d45ba493215"
      }
     },
     "5db5c27096d243cf9ff8716edfbe574c": {
      "model_module": "@jupyter-widgets/controls",
      "model_module_version": "1.5.0",
      "model_name": "DescriptionStyleModel",
      "state": {
       "description_width": ""
      }
     },
     "5e8e5cfe09364b78bae5657bb3cfe75d": {
      "model_module": "@jupyter-widgets/base",
      "model_module_version": "1.2.0",
      "model_name": "LayoutModel",
      "state": {}
     },
     "60205a0d53f54fd6a7498384bb7d5f9d": {
      "model_module": "@jupyter-widgets/base",
      "model_module_version": "1.2.0",
      "model_name": "LayoutModel",
      "state": {}
     },
     "62bfd43225f7408da0b70f86ffde4ddf": {
      "model_module": "@jupyter-widgets/controls",
      "model_module_version": "1.5.0",
      "model_name": "HBoxModel",
      "state": {
       "children": [
        "IPY_MODEL_1d61a8bed1204b9a9a448b55f48207b8",
        "IPY_MODEL_a4706b1ab8394f2fa06b7882f0d62278"
       ],
       "layout": "IPY_MODEL_7f46bcaaf1ca49abad3783461612301c"
      }
     },
     "65522fd8c1aa48b9b54d9427314f17f2": {
      "model_module": "@jupyter-widgets/base",
      "model_module_version": "1.2.0",
      "model_name": "LayoutModel",
      "state": {}
     },
     "6cad82de4f9a435983831d3935b6634c": {
      "model_module": "@jupyter-widgets/controls",
      "model_module_version": "1.5.0",
      "model_name": "HTMLModel",
      "state": {
       "layout": "IPY_MODEL_1fc1117f53ec4e5fac317557ed317d81",
       "style": "IPY_MODEL_5db5c27096d243cf9ff8716edfbe574c",
       "value": " 350/350 [00:32&lt;00:00, 10.65it/s]"
      }
     },
     "6dab0e42ffff43499db034e7c72775c5": {
      "model_module": "@jupyter-widgets/controls",
      "model_module_version": "1.5.0",
      "model_name": "DescriptionStyleModel",
      "state": {
       "description_width": ""
      }
     },
     "6dce0cbd3f8d4b78a0494751c0f7776c": {
      "model_module": "@jupyter-widgets/controls",
      "model_module_version": "1.5.0",
      "model_name": "HTMLModel",
      "state": {
       "layout": "IPY_MODEL_89c015ce4e834633a61dfe707dcf9de0",
       "style": "IPY_MODEL_89c61975fd664d7c914824c519c78c18",
       "value": " 350/350 [00:29&lt;00:00, 11.79it/s]"
      }
     },
     "6eccb20a95ed4c97b57cd9570d1f9cb4": {
      "model_module": "@jupyter-widgets/base",
      "model_module_version": "1.2.0",
      "model_name": "LayoutModel",
      "state": {}
     },
     "6f1ada35e90c4e218930fa39ac257798": {
      "model_module": "@jupyter-widgets/base",
      "model_module_version": "1.2.0",
      "model_name": "LayoutModel",
      "state": {}
     },
     "6f7a0fc6aa034b9393bb1cb03e8c2ffb": {
      "model_module": "@jupyter-widgets/base",
      "model_module_version": "1.2.0",
      "model_name": "LayoutModel",
      "state": {}
     },
     "7174176caa634039aa60d672bce74e18": {
      "model_module": "@jupyter-widgets/controls",
      "model_module_version": "1.5.0",
      "model_name": "ProgressStyleModel",
      "state": {
       "description_width": "initial"
      }
     },
     "730a4a96bfcd43608af5176d16a9f7b0": {
      "model_module": "@jupyter-widgets/controls",
      "model_module_version": "1.5.0",
      "model_name": "HBoxModel",
      "state": {
       "children": [
        "IPY_MODEL_8813d82425dc44f3899e356580eb6d3e",
        "IPY_MODEL_edaf4c0b34074eca9a89f17cd2800ec9"
       ],
       "layout": "IPY_MODEL_a1aeda4bdb484bf29e7828894f7589f7"
      }
     },
     "73a07b65d97240a5ac762dbbfd35143e": {
      "model_module": "@jupyter-widgets/controls",
      "model_module_version": "1.5.0",
      "model_name": "HBoxModel",
      "state": {
       "children": [
        "IPY_MODEL_338359e7b9a845ca81fdd609d85ae19b",
        "IPY_MODEL_913ea2b10fd44ce0856434b1c472c387"
       ],
       "layout": "IPY_MODEL_79aabe8ac28f48d297eb90ff0ef35a26"
      }
     },
     "73f692fb528243a2941bdf28341016fa": {
      "model_module": "@jupyter-widgets/controls",
      "model_module_version": "1.5.0",
      "model_name": "DescriptionStyleModel",
      "state": {
       "description_width": ""
      }
     },
     "79aabe8ac28f48d297eb90ff0ef35a26": {
      "model_module": "@jupyter-widgets/base",
      "model_module_version": "1.2.0",
      "model_name": "LayoutModel",
      "state": {}
     },
     "7c72f1c724834c92809bcd22083cc334": {
      "model_module": "@jupyter-widgets/controls",
      "model_module_version": "1.5.0",
      "model_name": "FloatProgressModel",
      "state": {
       "bar_style": "success",
       "description": "100%",
       "layout": "IPY_MODEL_65522fd8c1aa48b9b54d9427314f17f2",
       "max": 350,
       "style": "IPY_MODEL_f72af1533b014feaad0829a80340ce9e",
       "value": 350
      }
     },
     "7ee1f884d0374dd08490d2bce1a43a53": {
      "model_module": "@jupyter-widgets/controls",
      "model_module_version": "1.5.0",
      "model_name": "DescriptionStyleModel",
      "state": {
       "description_width": ""
      }
     },
     "7f46bcaaf1ca49abad3783461612301c": {
      "model_module": "@jupyter-widgets/base",
      "model_module_version": "1.2.0",
      "model_name": "LayoutModel",
      "state": {}
     },
     "83b15251854f4c1db4af50a0bb80e4ae": {
      "model_module": "@jupyter-widgets/controls",
      "model_module_version": "1.5.0",
      "model_name": "HTMLModel",
      "state": {
       "layout": "IPY_MODEL_f8642368863145a993f610146ff9a691",
       "style": "IPY_MODEL_0811735e53ec4ae481b74be5d89a56b2",
       "value": " 350/350 [01:26&lt;00:00,  4.04it/s]"
      }
     },
     "872c80adbfe7447cb8d410f7245c71b1": {
      "model_module": "@jupyter-widgets/controls",
      "model_module_version": "1.5.0",
      "model_name": "HBoxModel",
      "state": {
       "children": [
        "IPY_MODEL_e8f33f9aea8b42638cacd682a024852b",
        "IPY_MODEL_1653b5ec21964a1196639739a7141a64"
       ],
       "layout": "IPY_MODEL_c4ae395a8bbc4bea96fdbbecdec834e1"
      }
     },
     "878a7ef10374411491bae02f7e0a63c8": {
      "model_module": "@jupyter-widgets/base",
      "model_module_version": "1.2.0",
      "model_name": "LayoutModel",
      "state": {}
     },
     "8813d82425dc44f3899e356580eb6d3e": {
      "model_module": "@jupyter-widgets/controls",
      "model_module_version": "1.5.0",
      "model_name": "FloatProgressModel",
      "state": {
       "bar_style": "danger",
       "description": "  0%",
       "layout": "IPY_MODEL_60205a0d53f54fd6a7498384bb7d5f9d",
       "max": 350,
       "style": "IPY_MODEL_bd2c5726ae81475db0001b81c4284f11"
      }
     },
     "893cea6cfd9c428883af5590275baf66": {
      "model_module": "@jupyter-widgets/controls",
      "model_module_version": "1.5.0",
      "model_name": "HBoxModel",
      "state": {
       "children": [
        "IPY_MODEL_7c72f1c724834c92809bcd22083cc334",
        "IPY_MODEL_6cad82de4f9a435983831d3935b6634c"
       ],
       "layout": "IPY_MODEL_c193f60f7fa14a76bbdaf7db83659d0a"
      }
     },
     "89c015ce4e834633a61dfe707dcf9de0": {
      "model_module": "@jupyter-widgets/base",
      "model_module_version": "1.2.0",
      "model_name": "LayoutModel",
      "state": {}
     },
     "89c61975fd664d7c914824c519c78c18": {
      "model_module": "@jupyter-widgets/controls",
      "model_module_version": "1.5.0",
      "model_name": "DescriptionStyleModel",
      "state": {
       "description_width": ""
      }
     },
     "913ea2b10fd44ce0856434b1c472c387": {
      "model_module": "@jupyter-widgets/controls",
      "model_module_version": "1.5.0",
      "model_name": "HTMLModel",
      "state": {
       "layout": "IPY_MODEL_bdbb7d42d86445b398de4359c336f811",
       "style": "IPY_MODEL_dd6ae17d11f74566ba55a62d2e6a9cf8",
       "value": " 350/350 [00:58&lt;00:00,  5.97it/s]"
      }
     },
     "9166f0548166447f8cefe5b16aca0a2d": {
      "model_module": "@jupyter-widgets/base",
      "model_module_version": "1.2.0",
      "model_name": "LayoutModel",
      "state": {}
     },
     "924ee6d558324cc1964b55607580fcc4": {
      "model_module": "@jupyter-widgets/controls",
      "model_module_version": "1.5.0",
      "model_name": "HBoxModel",
      "state": {
       "children": [
        "IPY_MODEL_d2123345446141ef92d54a5beb6dc5ed",
        "IPY_MODEL_d23678c4ccf7463f9371fd85fd1f8d92"
       ],
       "layout": "IPY_MODEL_0652e3f34fc54872be9e258738114f53"
      }
     },
     "92ad3df951e7451195bf445fdff14037": {
      "model_module": "@jupyter-widgets/base",
      "model_module_version": "1.2.0",
      "model_name": "LayoutModel",
      "state": {}
     },
     "94e5420a166e4dc08ca00c4fb044543c": {
      "model_module": "@jupyter-widgets/controls",
      "model_module_version": "1.5.0",
      "model_name": "HBoxModel",
      "state": {
       "children": [
        "IPY_MODEL_13a0dc03e95045cfbfe932fa8893c6a3",
        "IPY_MODEL_6dce0cbd3f8d4b78a0494751c0f7776c"
       ],
       "layout": "IPY_MODEL_24c05fea956e47d08bbe5997b16f9f2f"
      }
     },
     "959e12ee992d49979096dea7ba5616c7": {
      "model_module": "@jupyter-widgets/base",
      "model_module_version": "1.2.0",
      "model_name": "LayoutModel",
      "state": {}
     },
     "9c3ba7b1d0084d0489c23920b65e62a8": {
      "model_module": "@jupyter-widgets/controls",
      "model_module_version": "1.5.0",
      "model_name": "ProgressStyleModel",
      "state": {
       "description_width": "initial"
      }
     },
     "9ce17724022c4e3b8c4c157d7449fd4e": {
      "model_module": "@jupyter-widgets/controls",
      "model_module_version": "1.5.0",
      "model_name": "FloatProgressModel",
      "state": {
       "bar_style": "danger",
       "description": " 27%",
       "layout": "IPY_MODEL_a57e1569427142a2afd1edfc0c58b311",
       "max": 350,
       "style": "IPY_MODEL_de5cf17049c3428b98faf21a9a19a8ba",
       "value": 96
      }
     },
     "9ebe6be2d07f416ea6cf36f79683b3ef": {
      "model_module": "@jupyter-widgets/controls",
      "model_module_version": "1.5.0",
      "model_name": "ProgressStyleModel",
      "state": {
       "description_width": "initial"
      }
     },
     "a1aeda4bdb484bf29e7828894f7589f7": {
      "model_module": "@jupyter-widgets/base",
      "model_module_version": "1.2.0",
      "model_name": "LayoutModel",
      "state": {}
     },
     "a4706b1ab8394f2fa06b7882f0d62278": {
      "model_module": "@jupyter-widgets/controls",
      "model_module_version": "1.5.0",
      "model_name": "HTMLModel",
      "state": {
       "layout": "IPY_MODEL_f947080aad3a49d4be15c636e973a287",
       "style": "IPY_MODEL_0232613b7c0b474da5c264eab75a637a",
       "value": " 0/350 [01:19&lt;?, ?it/s]"
      }
     },
     "a57e1569427142a2afd1edfc0c58b311": {
      "model_module": "@jupyter-widgets/base",
      "model_module_version": "1.2.0",
      "model_name": "LayoutModel",
      "state": {}
     },
     "a7949a39e2b44bfb9d936bc56cba8087": {
      "model_module": "@jupyter-widgets/controls",
      "model_module_version": "1.5.0",
      "model_name": "ProgressStyleModel",
      "state": {
       "description_width": "initial"
      }
     },
     "b2138b2cd33f474dae300c9da9fd1307": {
      "model_module": "@jupyter-widgets/base",
      "model_module_version": "1.2.0",
      "model_name": "LayoutModel",
      "state": {}
     },
     "b3a74d1b204a4c9dbbb87310d76c9087": {
      "model_module": "@jupyter-widgets/controls",
      "model_module_version": "1.5.0",
      "model_name": "ProgressStyleModel",
      "state": {
       "description_width": "initial"
      }
     },
     "ba543802b15e4532aa445a4f6d923630": {
      "model_module": "@jupyter-widgets/controls",
      "model_module_version": "1.5.0",
      "model_name": "HBoxModel",
      "state": {
       "children": [
        "IPY_MODEL_4f5b515d92d741bfa6cee24ceb3ce7ef",
        "IPY_MODEL_f333df78f59742118d531aa73965b6eb"
       ],
       "layout": "IPY_MODEL_3c9c401661154f79b5c3c55a1e944f40"
      }
     },
     "bd2c5726ae81475db0001b81c4284f11": {
      "model_module": "@jupyter-widgets/controls",
      "model_module_version": "1.5.0",
      "model_name": "ProgressStyleModel",
      "state": {
       "description_width": "initial"
      }
     },
     "bdbb7d42d86445b398de4359c336f811": {
      "model_module": "@jupyter-widgets/base",
      "model_module_version": "1.2.0",
      "model_name": "LayoutModel",
      "state": {}
     },
     "bf8247a88e574d9ebbd582b906973b64": {
      "model_module": "@jupyter-widgets/base",
      "model_module_version": "1.2.0",
      "model_name": "LayoutModel",
      "state": {}
     },
     "c051c8540374491d8834dcc7dd36873a": {
      "model_module": "@jupyter-widgets/controls",
      "model_module_version": "1.5.0",
      "model_name": "DescriptionStyleModel",
      "state": {
       "description_width": ""
      }
     },
     "c193f60f7fa14a76bbdaf7db83659d0a": {
      "model_module": "@jupyter-widgets/base",
      "model_module_version": "1.2.0",
      "model_name": "LayoutModel",
      "state": {}
     },
     "c2b68ae44d8d4aa89e0893647c0ba958": {
      "model_module": "@jupyter-widgets/controls",
      "model_module_version": "1.5.0",
      "model_name": "ProgressStyleModel",
      "state": {
       "description_width": "initial"
      }
     },
     "c4ae395a8bbc4bea96fdbbecdec834e1": {
      "model_module": "@jupyter-widgets/base",
      "model_module_version": "1.2.0",
      "model_name": "LayoutModel",
      "state": {}
     },
     "c5e60726679e4d91a6ecbf8dca50643e": {
      "model_module": "@jupyter-widgets/base",
      "model_module_version": "1.2.0",
      "model_name": "LayoutModel",
      "state": {}
     },
     "c8c60b86ad6a461ab9c776721d87cb66": {
      "model_module": "@jupyter-widgets/base",
      "model_module_version": "1.2.0",
      "model_name": "LayoutModel",
      "state": {}
     },
     "c8ca9b26d3704cc88fa0665a07237715": {
      "model_module": "@jupyter-widgets/base",
      "model_module_version": "1.2.0",
      "model_name": "LayoutModel",
      "state": {}
     },
     "cb5ed536ac634782b428e803721035e8": {
      "model_module": "@jupyter-widgets/base",
      "model_module_version": "1.2.0",
      "model_name": "LayoutModel",
      "state": {}
     },
     "d2123345446141ef92d54a5beb6dc5ed": {
      "model_module": "@jupyter-widgets/controls",
      "model_module_version": "1.5.0",
      "model_name": "FloatProgressModel",
      "state": {
       "bar_style": "success",
       "description": "100%",
       "layout": "IPY_MODEL_5e8e5cfe09364b78bae5657bb3cfe75d",
       "max": 350,
       "style": "IPY_MODEL_1432c51e43154df7b3bfa732b65296f5",
       "value": 350
      }
     },
     "d23678c4ccf7463f9371fd85fd1f8d92": {
      "model_module": "@jupyter-widgets/controls",
      "model_module_version": "1.5.0",
      "model_name": "HTMLModel",
      "state": {
       "layout": "IPY_MODEL_e68656c0640d44ba95aa413818264ae2",
       "style": "IPY_MODEL_e7e75be6701a41f7b85d3183abe89780",
       "value": " 350/350 [01:33&lt;00:00,  3.76it/s]"
      }
     },
     "d6e8c812a3b54e4eb98eb448143a4242": {
      "model_module": "@jupyter-widgets/base",
      "model_module_version": "1.2.0",
      "model_name": "LayoutModel",
      "state": {}
     },
     "d7aed429ced74d778fb94f37c8ff95cc": {
      "model_module": "@jupyter-widgets/controls",
      "model_module_version": "1.5.0",
      "model_name": "HBoxModel",
      "state": {
       "children": [
        "IPY_MODEL_01b529b8c34e4b2eb0d10e5d9e5e177b",
        "IPY_MODEL_f8569b5de0be4e098fcac9ae56822c5b"
       ],
       "layout": "IPY_MODEL_d6e8c812a3b54e4eb98eb448143a4242"
      }
     },
     "dd114173fb92423bbd70ec6c479cb7d8": {
      "model_module": "@jupyter-widgets/controls",
      "model_module_version": "1.5.0",
      "model_name": "ProgressStyleModel",
      "state": {
       "description_width": "initial"
      }
     },
     "dd6ae17d11f74566ba55a62d2e6a9cf8": {
      "model_module": "@jupyter-widgets/controls",
      "model_module_version": "1.5.0",
      "model_name": "DescriptionStyleModel",
      "state": {
       "description_width": ""
      }
     },
     "de5cf17049c3428b98faf21a9a19a8ba": {
      "model_module": "@jupyter-widgets/controls",
      "model_module_version": "1.5.0",
      "model_name": "ProgressStyleModel",
      "state": {
       "description_width": "initial"
      }
     },
     "de840c89fb7743fe918989375f8f09d4": {
      "model_module": "@jupyter-widgets/controls",
      "model_module_version": "1.5.0",
      "model_name": "ProgressStyleModel",
      "state": {
       "description_width": "initial"
      }
     },
     "e04442b8f5b645ddb9a2d0ca35b570c7": {
      "model_module": "@jupyter-widgets/base",
      "model_module_version": "1.2.0",
      "model_name": "LayoutModel",
      "state": {}
     },
     "e68656c0640d44ba95aa413818264ae2": {
      "model_module": "@jupyter-widgets/base",
      "model_module_version": "1.2.0",
      "model_name": "LayoutModel",
      "state": {}
     },
     "e7e75be6701a41f7b85d3183abe89780": {
      "model_module": "@jupyter-widgets/controls",
      "model_module_version": "1.5.0",
      "model_name": "DescriptionStyleModel",
      "state": {
       "description_width": ""
      }
     },
     "e8f33f9aea8b42638cacd682a024852b": {
      "model_module": "@jupyter-widgets/controls",
      "model_module_version": "1.5.0",
      "model_name": "FloatProgressModel",
      "state": {
       "bar_style": "success",
       "description": "100%",
       "layout": "IPY_MODEL_6f7a0fc6aa034b9393bb1cb03e8c2ffb",
       "max": 350,
       "style": "IPY_MODEL_b3a74d1b204a4c9dbbb87310d76c9087",
       "value": 350
      }
     },
     "eae6d913116d4f9596d119267d663b06": {
      "model_module": "@jupyter-widgets/controls",
      "model_module_version": "1.5.0",
      "model_name": "HTMLModel",
      "state": {
       "layout": "IPY_MODEL_6eccb20a95ed4c97b57cd9570d1f9cb4",
       "style": "IPY_MODEL_73f692fb528243a2941bdf28341016fa",
       "value": " 0/350 [01:20&lt;?, ?it/s]"
      }
     },
     "ebb69de0a5d1486fa19c7ae3e9f9c8fc": {
      "model_module": "@jupyter-widgets/controls",
      "model_module_version": "1.5.0",
      "model_name": "HBoxModel",
      "state": {
       "children": [
        "IPY_MODEL_1206426f849a49b9883d69d8d1ce7a7e",
        "IPY_MODEL_f7d49658dbf24be3aea3ec80ab7d9b87"
       ],
       "layout": "IPY_MODEL_e04442b8f5b645ddb9a2d0ca35b570c7"
      }
     },
     "ecbbd9d76fb54267b643cb37c8a18d50": {
      "model_module": "@jupyter-widgets/controls",
      "model_module_version": "1.5.0",
      "model_name": "HBoxModel",
      "state": {
       "children": [
        "IPY_MODEL_9ce17724022c4e3b8c4c157d7449fd4e",
        "IPY_MODEL_09890edfba904f4ca517537d8b60530d"
       ],
       "layout": "IPY_MODEL_26fc25ad059a42dd93cb4a481fb99dec"
      }
     },
     "ecd52bcfe1d44b3abd63c1a6912a5d49": {
      "model_module": "@jupyter-widgets/base",
      "model_module_version": "1.2.0",
      "model_name": "LayoutModel",
      "state": {}
     },
     "edaf4c0b34074eca9a89f17cd2800ec9": {
      "model_module": "@jupyter-widgets/controls",
      "model_module_version": "1.5.0",
      "model_name": "HTMLModel",
      "state": {
       "layout": "IPY_MODEL_6f1ada35e90c4e218930fa39ac257798",
       "style": "IPY_MODEL_216e981824e64d6dbc93dd78b03c3a74",
       "value": " 0/350 [24:51&lt;?, ?it/s]"
      }
     },
     "f08d9be41e604ceb96e38e84bc41a360": {
      "model_module": "@jupyter-widgets/base",
      "model_module_version": "1.2.0",
      "model_name": "LayoutModel",
      "state": {}
     },
     "f333df78f59742118d531aa73965b6eb": {
      "model_module": "@jupyter-widgets/controls",
      "model_module_version": "1.5.0",
      "model_name": "HTMLModel",
      "state": {
       "layout": "IPY_MODEL_c5e60726679e4d91a6ecbf8dca50643e",
       "style": "IPY_MODEL_7ee1f884d0374dd08490d2bce1a43a53",
       "value": " 27/350 [00:49&lt;09:46,  1.82s/it]"
      }
     },
     "f403dc4e098d4c89980023e307e97687": {
      "model_module": "@jupyter-widgets/controls",
      "model_module_version": "1.5.0",
      "model_name": "DescriptionStyleModel",
      "state": {
       "description_width": ""
      }
     },
     "f72af1533b014feaad0829a80340ce9e": {
      "model_module": "@jupyter-widgets/controls",
      "model_module_version": "1.5.0",
      "model_name": "ProgressStyleModel",
      "state": {
       "description_width": "initial"
      }
     },
     "f7d49658dbf24be3aea3ec80ab7d9b87": {
      "model_module": "@jupyter-widgets/controls",
      "model_module_version": "1.5.0",
      "model_name": "HTMLModel",
      "state": {
       "layout": "IPY_MODEL_9166f0548166447f8cefe5b16aca0a2d",
       "style": "IPY_MODEL_26b8fb8bc22f4f7287fa11271198b4ad",
       "value": " 350/350 [01:10&lt;00:00,  4.99it/s]"
      }
     },
     "f8569b5de0be4e098fcac9ae56822c5b": {
      "model_module": "@jupyter-widgets/controls",
      "model_module_version": "1.5.0",
      "model_name": "HTMLModel",
      "state": {
       "layout": "IPY_MODEL_959e12ee992d49979096dea7ba5616c7",
       "style": "IPY_MODEL_f403dc4e098d4c89980023e307e97687",
       "value": " 350/350 [01:21&lt;00:00,  4.30it/s]"
      }
     },
     "f8642368863145a993f610146ff9a691": {
      "model_module": "@jupyter-widgets/base",
      "model_module_version": "1.2.0",
      "model_name": "LayoutModel",
      "state": {}
     },
     "f947080aad3a49d4be15c636e973a287": {
      "model_module": "@jupyter-widgets/base",
      "model_module_version": "1.2.0",
      "model_name": "LayoutModel",
      "state": {}
     },
     "fc54c6bd33b84dc69dc7742ecb553d0d": {
      "model_module": "@jupyter-widgets/base",
      "model_module_version": "1.2.0",
      "model_name": "LayoutModel",
      "state": {}
     },
     "fe42a0b08f2d45edbe268881a030631f": {
      "model_module": "@jupyter-widgets/controls",
      "model_module_version": "1.5.0",
      "model_name": "HBoxModel",
      "state": {
       "children": [
        "IPY_MODEL_3f2280da35f4402a8d34ea0e79da32c8",
        "IPY_MODEL_eae6d913116d4f9596d119267d663b06"
       ],
       "layout": "IPY_MODEL_055a92dca1c64e41807e993fa71eb6b0"
      }
     }
    },
    "version_major": 2,
    "version_minor": 0
   }
  }
 },
 "nbformat": 4,
 "nbformat_minor": 4
}
